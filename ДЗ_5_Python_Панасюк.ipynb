{
 "cells": [
  {
   "cell_type": "code",
   "execution_count": null,
   "id": "412b4324",
   "metadata": {},
   "outputs": [],
   "source": [
    "Переведите содержимое файла purchase_log.txt в словарь purchases вида:\n",
    "{'1840e0b9d4': 'Продукты', ...}\n",
    "Для каждого user_id в файле visit_log.csv определите третий столбец с категорией покупки (если покупка была, \n",
    "сам файл visit_log.csv изменять не надо). Запишите в файл funnel.csv визиты из файла visit_log.csv, \n",
    "в которых были покупки с указанием категории.\n",
    "Учтите условия на данные:\n",
    "содержимое purchase_log.txt помещается в оперативную память компьютера\n",
    "содержимое visit_log.csv - нет; используйте только построчную обработку этого файла"
   ]
  },
  {
   "cell_type": "code",
   "execution_count": 103,
   "id": "fcb31afa",
   "metadata": {},
   "outputs": [],
   "source": [
    "import json\n",
    "\n",
    "dictionary_p = {}\n",
    "dictionary_v = {}\n",
    "\n",
    "def to_d():\n",
    "    with open('purchase_log.txt', 'r') as f:\n",
    "        for line in f: \n",
    "            line = line.strip()\n",
    "            dic = json.loads(line)\n",
    "            k = dic['user_id']\n",
    "            v = dic['category'] \n",
    "            dictionary_p[k] = v\n",
    "\n",
    "\n",
    "def third_c(filename1, filename):\n",
    "    with open ('visit_log.csv', 'r') as f_read: \n",
    "        with open ('funnel.csv', 'w') as f_write:\n",
    "            for line in f_read:\n",
    "                list_=line.strip().split(',')\n",
    "                if list_[0] in dictionary_p.keys():\n",
    "                    list_.append(dictionary_p[list_[0]])\n",
    "                    add=','.join(list_)\n",
    "                elif list_[0]=='user_id':\n",
    "                    list_.append('category')\n",
    "                    add=','.join(list_)\n",
    "                else:\n",
    "                    add=','.join(list_)\n",
    "                f_write.write(add+'\\n')\n",
    "\n",
    "\n",
    "to_d()            \n",
    "third_c()\n",
    "\n"
   ]
  },
  {
   "cell_type": "code",
   "execution_count": null,
   "id": "e6831359",
   "metadata": {},
   "outputs": [],
   "source": [
    "for row in f:\n",
    "        line_list=row.strip().split(',')\n",
    "        if line_list[0] in new_dict.keys():\n",
    "            line_list.append(new_dict[line_list[0]])\n",
    "            add_line=','.join(line_list)\n",
    "        elif line_list[0]=='user_id':\n",
    "            line_list.append('category')\n",
    "            add_line=','.join(line_list)\n",
    "        else:\n",
    "            add_line=','.join(line_list)\n",
    "        w_f.write(add_line+'\\n')"
   ]
  },
  {
   "cell_type": "code",
   "execution_count": null,
   "id": "521cc8fb",
   "metadata": {},
   "outputs": [],
   "source": []
  },
  {
   "cell_type": "code",
   "execution_count": null,
   "id": "605672ee",
   "metadata": {},
   "outputs": [],
   "source": []
  },
  {
   "cell_type": "code",
   "execution_count": null,
   "id": "c7f731cf",
   "metadata": {},
   "outputs": [],
   "source": []
  },
  {
   "cell_type": "code",
   "execution_count": null,
   "id": "7eb414a7",
   "metadata": {},
   "outputs": [],
   "source": []
  },
  {
   "cell_type": "code",
   "execution_count": null,
   "id": "de4c0cf1",
   "metadata": {},
   "outputs": [],
   "source": []
  }
 ],
 "metadata": {
  "kernelspec": {
   "display_name": "Python 3 (ipykernel)",
   "language": "python",
   "name": "python3"
  },
  "language_info": {
   "codemirror_mode": {
    "name": "ipython",
    "version": 3
   },
   "file_extension": ".py",
   "mimetype": "text/x-python",
   "name": "python",
   "nbconvert_exporter": "python",
   "pygments_lexer": "ipython3",
   "version": "3.9.12"
  }
 },
 "nbformat": 4,
 "nbformat_minor": 5
}
