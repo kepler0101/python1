{
 "cells": [
  {
   "cell_type": "code",
   "execution_count": 4,
   "id": "040af1be",
   "metadata": {},
   "outputs": [
    {
     "ename": "SyntaxError",
     "evalue": "invalid syntax (3860828649.py, line 1)",
     "output_type": "error",
     "traceback": [
      "\u001b[0;36m  Input \u001b[0;32mIn [4]\u001b[0;36m\u001b[0m\n\u001b[0;31m    Печатные газеты использовали свой формат дат для каждого выпуска.\u001b[0m\n\u001b[0m             ^\u001b[0m\n\u001b[0;31mSyntaxError\u001b[0m\u001b[0;31m:\u001b[0m invalid syntax\n"
     ]
    }
   ],
   "source": [
    "Печатные газеты использовали свой формат дат для каждого выпуска. \n",
    "Для каждой газеты из списка напишите формат указанной даты \n",
    "для перевода в объект datetime:\n",
    "The Moscow Times - Wednesday, October 2, 2002\n",
    "The Guardian - Friday, 11.10.13\n",
    "Daily News - Thursday, 18 August 1977\n",
    "Пример работы программы\n",
    "Программа должна выводить на экран объекты типа datetime,\n",
    "соответствующие датам в условии задачи\n"
   ]
  },
  {
   "cell_type": "code",
   "execution_count": 11,
   "id": "ef3ce181",
   "metadata": {},
   "outputs": [
    {
     "name": "stdout",
     "output_type": "stream",
     "text": [
      "Wednesday, October 2, 2002\n",
      "2002-10-02 00:00:00 <class 'datetime.datetime'>\n"
     ]
    }
   ],
   "source": [
    "from datetime import datetime\n",
    "\n",
    "def convert_to_dt():\n",
    "    try:\n",
    "        paper_date = input()\n",
    "        paper_date_dt = datetime.strptime(paper_date, '%A, %B %d, %Y')\n",
    "    except ValueError:\n",
    "        paper_date_dt = datetime.strptime(paper_date, '%A, %d %B %Y')\n",
    "    except ValueError:\n",
    "        paper_date_dt = datetime.strptime(paper_date, '%A, %d.%m.%y')\n",
    "    finally:\n",
    "        return print(paper_date_dt, type(paper_date_dt))\n",
    "    \n",
    "convert_to_dt()"
   ]
  },
  {
   "cell_type": "code",
   "execution_count": 16,
   "id": "4c89bbe5",
   "metadata": {},
   "outputs": [
    {
     "ename": "SyntaxError",
     "evalue": "invalid syntax (2087446707.py, line 1)",
     "output_type": "error",
     "traceback": [
      "\u001b[0;36m  Input \u001b[0;32mIn [16]\u001b[0;36m\u001b[0m\n\u001b[0;31m    Задание 2 (не обязательное)\u001b[0m\n\u001b[0m            ^\u001b[0m\n\u001b[0;31mSyntaxError\u001b[0m\u001b[0;31m:\u001b[0m invalid syntax\n"
     ]
    }
   ],
   "source": [
    "Задание 2 (не обязательное)\n",
    "Напишите функцию date_range, которая возвращает список дат за \n",
    "период от start_date до end_date. Даты должны вводиться в \n",
    "формате YYYY-MM-DD. В случае неверного формата или \n",
    "при start_date > end_date должен возвращаться пустой список.\n",
    "\n",
    "Примеры работы программы:\n",
    "date_range(‘2022-01-01’, ‘2022-01-03’)\n",
    "[‘2022-01-01’, ‘2022-01-02’, ‘2022-01-03’]"
   ]
  },
  {
   "cell_type": "code",
   "execution_count": 30,
   "id": "1d8a360f",
   "metadata": {},
   "outputs": [
    {
     "name": "stdout",
     "output_type": "stream",
     "text": [
      "Введите дату начала периода:2022-01-01\n",
      "Введите дату конца периода:2022-02-01\n",
      "2022-01-01\n",
      "2022-01-02\n",
      "2022-01-03\n",
      "2022-01-04\n",
      "2022-01-05\n",
      "2022-01-06\n",
      "2022-01-07\n",
      "2022-01-08\n",
      "2022-01-09\n",
      "2022-01-10\n",
      "2022-01-11\n",
      "2022-01-12\n",
      "2022-01-13\n",
      "2022-01-14\n",
      "2022-01-15\n",
      "2022-01-16\n",
      "2022-01-17\n",
      "2022-01-18\n",
      "2022-01-19\n",
      "2022-01-20\n",
      "2022-01-21\n",
      "2022-01-22\n",
      "2022-01-23\n",
      "2022-01-24\n",
      "2022-01-25\n",
      "2022-01-26\n",
      "2022-01-27\n",
      "2022-01-28\n",
      "2022-01-29\n",
      "2022-01-30\n",
      "2022-01-31\n"
     ]
    }
   ],
   "source": [
    "from datetime import datetime\n",
    "from datetime import timedelta\n",
    "\n",
    "def show_dates():\n",
    "    try:\n",
    "        date_start = input('Введите дату начала периода:')\n",
    "        date_end = input('Введите дату конца периода:')\n",
    "        date_start = datetime.strptime(date_start, '%Y-%m-%d')\n",
    "        date_end = datetime.strptime(date_end, '%Y-%m-%d')\n",
    "    except ValueError:\n",
    "        print(date_start, date_end)\n",
    "        return print('Ошибка при вводе данных, введите в формате YYYY-MM-DD')\n",
    "    current_dt = date_start\n",
    "    while current_dt < date_end:\n",
    "        print(current_dt.strftime('%Y-%m-%d'))\n",
    "        current_dt += timedelta(days=1)\n",
    "\n",
    "show_dates()"
   ]
  },
  {
   "cell_type": "code",
   "execution_count": null,
   "id": "caf3d2f5",
   "metadata": {},
   "outputs": [],
   "source": []
  }
 ],
 "metadata": {
  "kernelspec": {
   "display_name": "Python 3 (ipykernel)",
   "language": "python",
   "name": "python3"
  },
  "language_info": {
   "codemirror_mode": {
    "name": "ipython",
    "version": 3
   },
   "file_extension": ".py",
   "mimetype": "text/x-python",
   "name": "python",
   "nbconvert_exporter": "python",
   "pygments_lexer": "ipython3",
   "version": "3.9.12"
  }
 },
 "nbformat": 4,
 "nbformat_minor": 5
}
