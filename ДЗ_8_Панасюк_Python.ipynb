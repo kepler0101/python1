{
 "cells": [
  {
   "cell_type": "markdown",
   "id": "d08ab664",
   "metadata": {},
   "source": [
    "### Задача1\n",
    "Напишите функцию, которая принимает на вход строку и проверяет, является ли она валидным транспортным номером (1 буква, 3 цифры, 2 буквы, 2-3 цифры). Обратите внимание, что не все буквы кириллического алфавита используются в транспортных номерах.\n",
    "Если номер валиден, то функция должна возвращать отдельно номер и регион"
   ]
  },
  {
   "cell_type": "code",
   "execution_count": 37,
   "id": "711b6e3b",
   "metadata": {},
   "outputs": [
    {
     "name": "stdout",
     "output_type": "stream",
     "text": [
      "Введите номер автомобиля:А222ВС96\n",
      "Результат: Номер А222ВС96 валиден, регион - 96\n"
     ]
    }
   ],
   "source": [
    "import re\n",
    "\n",
    "def validate_number():\n",
    "    number = input('Введите номер автомобиля:')\n",
    "    rg =re.compile(r'^[АБВЕКМНОРСТУХ]{1}\\d{3}[АБВЕКМНОРСТУХ]{2}(?P<province>\\d{2,3})')\n",
    "    match = rg.match(number)\n",
    "    if match:\n",
    "        print(f\"Результат: Номер {number} валиден, регион - {match['province']}\")\n",
    "    else:\n",
    "        print(f\"Результат: Номер {number} не валиден\")\n",
    "\n",
    "validate_number()"
   ]
  },
  {
   "cell_type": "markdown",
   "id": "bb0d2407",
   "metadata": {},
   "source": [
    "### Задача 2 \n",
    "Напишите функцию, которая будет удалять все последовательные повторы слов из заданной строки при помощи регулярных выражений.\n",
    "\n",
    "Пример работы программы:\n",
    "\n",
    "some_string = 'Напишите функцию функцию, которая будет будет будет будет удалять все все все все последовательные повторы слов из из из из заданной строки строки при помощи регулярных выражений'\n",
    "\n",
    "Результат: Напишите функцию, которая будет удалять все последовательные повторы слов из заданной строки при помощи регулярных выражений\n"
   ]
  },
  {
   "cell_type": "code",
   "execution_count": 32,
   "id": "f0a16422",
   "metadata": {},
   "outputs": [
    {
     "name": "stdout",
     "output_type": "stream",
     "text": [
      "Напишите функцию функцию, которая будет будет будет будет удалять все все все все последовательные повторы слов из из из из заданной строки строки при помощи регулярных выражений\n",
      "\n",
      " Напишите функцию, которая будет удалять все последовательные повторы слов из заданной строки при помощи регулярных выражений\n"
     ]
    }
   ],
   "source": [
    "    \n",
    "def remove_doubles():\n",
    "    some_string= input()\n",
    "    some_string = re.sub(r'\\b(\\w+)( \\1\\b)+', r'\\1', some_string)\n",
    "    print('\\n', some_string)\n",
    "\n",
    "remove_doubles()"
   ]
  },
  {
   "cell_type": "code",
   "execution_count": null,
   "id": "e95c1363",
   "metadata": {},
   "outputs": [],
   "source": []
  },
  {
   "cell_type": "code",
   "execution_count": null,
   "id": "32bd23c4",
   "metadata": {},
   "outputs": [],
   "source": []
  }
 ],
 "metadata": {
  "kernelspec": {
   "display_name": "Python 3 (ipykernel)",
   "language": "python",
   "name": "python3"
  },
  "language_info": {
   "codemirror_mode": {
    "name": "ipython",
    "version": 3
   },
   "file_extension": ".py",
   "mimetype": "text/x-python",
   "name": "python",
   "nbconvert_exporter": "python",
   "pygments_lexer": "ipython3",
   "version": "3.9.12"
  }
 },
 "nbformat": 4,
 "nbformat_minor": 5
}
