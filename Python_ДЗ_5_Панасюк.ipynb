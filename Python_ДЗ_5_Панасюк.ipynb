{
 "cells": [
  {
   "cell_type": "code",
   "execution_count": null,
   "id": "412b4324",
   "metadata": {},
   "outputs": [],
   "source": [
    "Переведите содержимое файла purchase_log.txt в словарь purchases вида:\n",
    "{'1840e0b9d4': 'Продукты', ...}\n",
    "Для каждого user_id в файле visit_log.csv определите третий столбец с категорией покупки (если покупка была, \n",
    "сам файл visit_log.csv изменять не надо). Запишите в файл funnel.csv визиты из файла visit_log.csv, \n",
    "в которых были покупки с указанием категории.\n",
    "Учтите условия на данные:\n",
    "содержимое purchase_log.txt помещается в оперативную память компьютера\n",
    "содержимое visit_log.csv - нет; используйте только построчную обработку этого файла"
   ]
  },
  {
   "cell_type": "code",
   "execution_count": 105,
   "id": "fcb31afa",
   "metadata": {},
   "outputs": [],
   "source": [
    "import json\n",
    "\n",
    "dictionary_p = {}\n",
    "\n",
    "def to_d(filename):\n",
    "    with open(filename, 'r') as f:\n",
    "        for line in f: \n",
    "            line = line.strip()\n",
    "            dic = json.loads(line)\n",
    "            k = dic['user_id']\n",
    "            v = dic['category'] \n",
    "            dictionary_p[k] = v\n",
    "\n",
    "\n",
    "def third_c(filename1, filename2):\n",
    "    with open (filename1, 'r') as f_read: \n",
    "        with open (filename2, 'w') as f_write:\n",
    "            for line in f_read:\n",
    "                list_=line.strip().split(',')\n",
    "                if list_[0] in dictionary_p.keys():\n",
    "                    list_.append(dictionary_p[list_[0]])\n",
    "                    add=','.join(list_)\n",
    "                elif list_[0]=='user_id':\n",
    "                    list_.append('category')\n",
    "                    add=','.join(list_)\n",
    "                else:\n",
    "                    add=','.join(list_)\n",
    "                f_write.write(add+'\\n')\n",
    "\n",
    "\n",
    "to_d('purchase_log.txt')            \n",
    "third_c('visit_log.csv', 'funnel.csv')\n",
    "\n"
   ]
  },
  {
   "cell_type": "code",
   "execution_count": null,
   "id": "521cc8fb",
   "metadata": {},
   "outputs": [],
   "source": []
  },
  {
   "cell_type": "code",
   "execution_count": null,
   "id": "605672ee",
   "metadata": {},
   "outputs": [],
   "source": []
  },
  {
   "cell_type": "code",
   "execution_count": null,
   "id": "c7f731cf",
   "metadata": {},
   "outputs": [],
   "source": []
  },
  {
   "cell_type": "code",
   "execution_count": null,
   "id": "7eb414a7",
   "metadata": {},
   "outputs": [],
   "source": []
  },
  {
   "cell_type": "code",
   "execution_count": null,
   "id": "de4c0cf1",
   "metadata": {},
   "outputs": [],
   "source": []
  }
 ],
 "metadata": {
  "kernelspec": {
   "display_name": "Python 3 (ipykernel)",
   "language": "python",
   "name": "python3"
  },
  "language_info": {
   "codemirror_mode": {
    "name": "ipython",
    "version": 3
   },
   "file_extension": ".py",
   "mimetype": "text/x-python",
   "name": "python",
   "nbconvert_exporter": "python",
   "pygments_lexer": "ipython3",
   "version": "3.9.12"
  }
 },
 "nbformat": 4,
 "nbformat_minor": 5
}
